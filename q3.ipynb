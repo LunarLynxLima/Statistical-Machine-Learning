{
 "cells": [
  {
   "cell_type": "code",
   "execution_count": 170,
   "metadata": {},
   "outputs": [],
   "source": [
    "import pandas as pd\n",
    "import numpy as np\n",
    "import math\n",
    "from pprint import pprint\n",
    "import matplotlib.pyplot as plt\n",
    "from sklearn.neighbors import NearestNeighbors\n",
    "from sklearn.model_selection import train_test_split"
   ]
  },
  {
   "attachments": {},
   "cell_type": "markdown",
   "metadata": {},
   "source": [
    "#### Fetching data from .csv file "
   ]
  },
  {
   "cell_type": "code",
   "execution_count": 171,
   "metadata": {},
   "outputs": [],
   "source": [
    "def fetchdata(filename) -> str:\n",
    "    df = pd.read_csv(filename)\n",
    "    data = []\n",
    "    label = []\n",
    "    for i in df.values:\n",
    "        data.append(i[1:-1])\n",
    "        label.append(i[-1:])\n",
    "    data = np.array(data)\n",
    "    ones = np.ones((data.shape[0], 1)) #adding a column of 1 in the first column\n",
    "    data = np.hstack((ones, data))\n",
    "    label = np.concatenate(label, axis=0)\n",
    "    label = label.tolist()\n",
    "    return data,label"
   ]
  },
  {
   "attachments": {},
   "cell_type": "markdown",
   "metadata": {},
   "source": [
    "`Loading` and \n",
    "`Spliting` data into training and testing"
   ]
  },
  {
   "cell_type": "code",
   "execution_count": 172,
   "metadata": {},
   "outputs": [],
   "source": [
    "datas,labels = fetchdata('Real estate.csv')\n",
    "train_features, test_features, train_labels, test_labels = train_test_split(datas, labels, test_size=0.2, random_state=42)"
   ]
  },
  {
   "attachments": {},
   "cell_type": "markdown",
   "metadata": {},
   "source": [
    "`Linear Regression`"
   ]
  },
  {
   "cell_type": "code",
   "execution_count": 173,
   "metadata": {},
   "outputs": [],
   "source": [
    "class LinearRegression:\n",
    "    def training(rawtrain,train_label):\n",
    "        X = np.array(rawtrain)\n",
    "        theta = np.dot(np.dot(np.linalg.inv(np.dot(X.T,X)),X.T),train_label)\n",
    "        return theta\n",
    "    def predict(rawtest,theta):\n",
    "        X = np.array(rawtest)\n",
    "        return np.dot(X,theta)\n",
    "    def evaluation(predict,label):\n",
    "        RSS =  np.sum((label - predict)**2)\n",
    "        mean_y = np.mean(label)\n",
    "        TSS = np.sum((label - mean_y)**2)\n",
    "        r2 =1-(RSS/TSS)\n",
    "        RMSE = math.sqrt(RSS/len(label))\n",
    "        print(f\"\"\"\\nResidual sum of square = {RSS}\\nTotal Sum of squares = {TSS}\"\"\")\n",
    "        print(f\"\"\"Coefficient of determinaton = {r2}\\nRoot Mean Squared Error = {RMSE}\"\"\")\n",
    "        return  r2 , RMSE"
   ]
  },
  {
   "attachments": {},
   "cell_type": "markdown",
   "metadata": {},
   "source": [
    "#### Using Linear Regression"
   ]
  },
  {
   "cell_type": "code",
   "execution_count": 174,
   "metadata": {},
   "outputs": [
    {
     "name": "stdout",
     "output_type": "stream",
     "text": [
      "\n",
      "Residual sum of square = 4440.966347342221\n",
      "Total Sum of squares = 13924.058795180725\n",
      "Coefficient of determinaton = 0.6810580583817063\n",
      "Root Mean Squared Error = 7.314753491586532\n"
     ]
    }
   ],
   "source": [
    "theta = LinearRegression.training(train_features,train_labels)\n",
    "y_predicted = (LinearRegression.predict(test_features,theta))\n",
    "\n",
    "r2 , rmse = LinearRegression.evaluation(y_predicted,test_labels)\n"
   ]
  },
  {
   "attachments": {},
   "cell_type": "markdown",
   "metadata": {},
   "source": [
    "### The `limitations` of the normal equation approach for linear regression are:\n",
    "##### 1. Computationally expensive for large datasets.\n",
    "##### 2. Numerically unstable, if the input features are linearly dependent.\n",
    "##### 3. Faces Singular matrix issues i.e equation may be singular or close to singular, which can lead to numerical instability and inaccurate results.\n",
    "##### 4. Can overfit the data if the input features are highly correlated or if there are too many features relative to the number of examples.\n",
    "##### 5. Cannot find Non-linear decision boundaries.\n",
    "##### 6. Outliers can have a large impact, which can lead to overfitting and poor generalization to new data."
   ]
  }
 ],
 "metadata": {
  "kernelspec": {
   "display_name": "Python 3",
   "language": "python",
   "name": "python3"
  },
  "language_info": {
   "codemirror_mode": {
    "name": "ipython",
    "version": 3
   },
   "file_extension": ".py",
   "mimetype": "text/x-python",
   "name": "python",
   "nbconvert_exporter": "python",
   "pygments_lexer": "ipython3",
   "version": "3.10.5"
  },
  "orig_nbformat": 4,
  "vscode": {
   "interpreter": {
    "hash": "26de051ba29f2982a8de78e945f0abaf191376122a1563185a90213a26c5da77"
   }
  }
 },
 "nbformat": 4,
 "nbformat_minor": 2
}
