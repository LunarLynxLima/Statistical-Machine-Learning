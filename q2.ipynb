{
 "cells": [
  {
   "cell_type": "code",
   "execution_count": 1145,
   "metadata": {},
   "outputs": [],
   "source": [
    "import pandas  as pd\n",
    "import numpy  as np\n",
    "import matplotlib.pyplot as plt\n",
    "import csv\n",
    "import random as r\n",
    "from pprint import pprint\n",
    "from sklearn.model_selection import train_test_split\n",
    "from sklearn.decomposition import PCA\n",
    "import warnings\n",
    "warnings.filterwarnings(\"ignore\", category=np.VisibleDeprecationWarning)\n",
    "class Patient:\n",
    "    def __init__(self,id: int, features : list[float], label : int ) -> None:\n",
    "        self.id = id\n",
    "        self.features = features #[Age,Sex,ChestPain,RestBP,Chol,Fbs,RestECG,MaxHR,ExAng,Oldpeak,Slope,Ca,Thal]\n",
    "        self.label = label\n",
    "    \n",
    "    def __str__(self) -> str:\n",
    "        print(f\"id:{self.id},features:{self.features} label:{self.label}\")\n",
    "def sanitize_data(raw,labels): #2d to 3d\n",
    "    indexlabel = np.unique(labels)\n",
    "    \n",
    "    fixed_data = [[] for _ in range(len(indexlabel))]\n",
    "    fixed_label = [[] for _ in range(len(indexlabel))]\n",
    "    for i in range(len(labels)):\n",
    "        fixed_data[labels[i]].append(raw[i])\n",
    "        fixed_label[labels[i]].append(labels[i])\n",
    "    return fixed_data, fixed_label"
   ]
  },
  {
   "attachments": {},
   "cell_type": "markdown",
   "metadata": {},
   "source": [
    "### Read data from csv ; Convert into `features` and `label`\n"
   ]
  },
  {
   "cell_type": "code",
   "execution_count": 1146,
   "metadata": {},
   "outputs": [],
   "source": [
    "def fetchdata(filename):\n",
    "        with open(filename, newline = '') as csvfile:\n",
    "                chestpain = {\"nontypical\" : 3, \"nonanginal\" : 2, \"asymptomatic\" : 1, \"typical\" : 0,\"NA\":0}\n",
    "                thal = {\"normal\" :0, \"reversable\": 1, \"fixed\" :2,\"NA\":0}\n",
    "                ahd = {\"Yes\":1,\"No\":0}\n",
    "\n",
    "                all_labels = []\n",
    "                all_features = []\n",
    "\n",
    "                reader = csv.reader(csvfile, delimiter=',', quotechar='\"')\n",
    "                # data = []\n",
    "                count = 0\n",
    "                for row in reader:\n",
    "                        count+=1\n",
    "                        if(count == 1) : pass\n",
    "                        else:\n",
    "                                index = (row[0])\n",
    "                                label = ((ahd[row[14]]))\n",
    "                                features  = (row[0:14])\n",
    "                                if((features[11] == 'NA') or (features [2] == 'NA') or (features [12] == 'NA')) : continue\n",
    "                                features[0] = 1\n",
    "                                features[3] = chestpain[features[3]]\n",
    "                                features[13] = thal[features[13]]\n",
    "                                features = np.asarray(features,dtype=float)\n",
    "\n",
    "                                all_features.append(features)\n",
    "                                all_labels.append(label)\n",
    "                                # data.append(Patient(index,features,label))\n",
    "        return all_features,all_labels\n",
    "\n",
    "all_features, all_labels = fetchdata('Heart.csv') #2D and 1D\n",
    "train_features_old,test_features_old,old_train_labels, old_test_labels = train_test_split(all_features, all_labels, test_size=0.2, random_state=42)\n",
    "# 2D                    2D              1D              1D\n",
    "# print(len(train_features_old),len(old_train_labels),len(test_features_old),len(old_test_labels))\n",
    "sample_train_data = [[2,3],[4,7],[9,11],[5,8]]\n",
    "sample_train_labels = [0,0,1,1]"
   ]
  },
  {
   "cell_type": "code",
   "execution_count": 1147,
   "metadata": {},
   "outputs": [],
   "source": [
    "class LogisticRegression:        \n",
    "    def sigmoid(z): \n",
    "        return 1 / (1 + np.exp(-z))\n",
    "    def loss(y, y_hat):\n",
    "        loss = -np.mean(y*(np.log(y_hat)) - (1-y)*np.log(1-y_hat))\n",
    "        return loss\n",
    "    def gradients(data, y, y_hat):\n",
    "        num_points = data.shape[0] # num_points-> number of training examples.\n",
    "        dw = (1/num_points)*np.dot(data.T, (y_hat - y))      \n",
    "        return dw\n",
    "    def normalize(X): #return list ;without nan\n",
    "        num_points, n = np.matrix(X).shape\n",
    "        for _ in range(n):\n",
    "            with np.errstate(divide='ignore', invalid='ignore'):\n",
    "                X = (X - X.mean(axis=0))/X.std(axis=0)\n",
    "        X = np.nan_to_num(X,nan = 1)\n",
    "        return (X).tolist()\n",
    "    def train_LR(train_data,train_labels,alpha = 0.002, max_iter = 1000, debug = False):\n",
    "        Train_data = np.array(train_data)                               ## num_points*n = datapoint*features*n\n",
    "        normalized_data = LogisticRegression.normalize(Train_data)      # num_points*n = datapoint*features\n",
    "\n",
    "        num_points = len(normalized_data)                                #no. of data points\n",
    "        n = len(normalized_data[0])                                      # no. of features\n",
    "        slope = (([0.69 for _ in range(n)]))                            ## 1 * features ;randomly intialize slope == {b0, b1 ...}\n",
    "        count = 0\n",
    "        while(count < max_iter):\n",
    "            slope = (np.matrix(slope).T)\n",
    "            y_hat_all = (np.dot(slope.T,np.matrix(np.matrix(normalized_data).T)).tolist())[0]\n",
    "            y_hats = [0 for _ in range(num_points)]\n",
    "            for i in range(0,num_points):\n",
    "                y_hats[i] = LogisticRegression.sigmoid(y_hat_all[i])\n",
    "\n",
    "            error = (np.matrix(y_hats) - np.matrix(train_labels)).tolist() # 1*num_points\n",
    "\n",
    "            p = (np.dot(np.matrix(error).T,np.matrix(normalized_data[i])))\n",
    "            sumed = np.sum(p,axis=0)\n",
    "            sumed_list = (sumed.tolist())\n",
    "\n",
    "            change = (alpha/num_points)*np.array(sumed_list)\n",
    "            slope = (slope).T\n",
    "            slope -= change\n",
    "            slope = slope.tolist()[0]\n",
    "            count+=1\n",
    "        return slope\n",
    "    def finding_accuracy(confidence_list,testing_labels, threshold,debug = False):\n",
    "        j=1\n",
    "        predicted_labels = [j := 0 if i < threshold else 1 for i in confidence_list]\n",
    "        ratio = (sum([1 for i in range(len(predicted_labels)) if predicted_labels[i] == testing_labels[i]]))/len(predicted_labels) , \n",
    "        if(debug == True) : return ratio\n",
    "        accuracy = max([(sum([1 for i in range(len(predicted_labels)) if predicted_labels[i] == testing_labels[i]]))/len(predicted_labels) , \n",
    "                    (sum([1 for i in range(len(predicted_labels)) if predicted_labels[i] != testing_labels[i]]))/len(predicted_labels)])\n",
    "        \n",
    "        return accuracy\n",
    "    def test_LR(test_data, test_labels, slope,threshold = 0.5,debug = False):\n",
    "        test_data = LogisticRegression.normalize(np.array(test_data))   #converting test_data in same form\n",
    "        x = (np.dot(np.matrix(slope),np.matrix(test_data).T)).tolist()[0]\n",
    "        prob = [LogisticRegression.sigmoid(i) for i in x]\n",
    "\n",
    "        accuracy = LogisticRegression.finding_accuracy(prob,test_labels,threshold,debug=False)\n",
    "        return accuracy, prob\n",
    "    def Logistic_Regression(train_features,train_labels,test_features,test_labels,accuracy_only=True,debug = False):\n",
    "        slope = LogisticRegression.train_LR(train_features,train_labels)\n",
    "        accuracy, prob_list = LogisticRegression.test_LR(test_features,test_labels,slope)\n",
    "        if(accuracy_only) : return accuracy\n",
    "        return prob_list , accuracy"
   ]
  },
  {
   "cell_type": "code",
   "execution_count": 1148,
   "metadata": {},
   "outputs": [
    {
     "name": "stdout",
     "output_type": "stream",
     "text": [
      "[[-0.1]\n",
      " [-0.1]]\n"
     ]
    }
   ],
   "source": [
    "class FDA:\n",
    "    def calc_means(data,debug = False):\n",
    "        ar = (np.array(data))\n",
    "        means = []\n",
    "        means_feature_wise = []\n",
    "        for i in ar:\n",
    "            i = np.array(i)\n",
    "            rows,columns = i.shape\n",
    "            means.append([np.array(np.mean(i, axis=0)) for _ in range(rows)])\n",
    "            means_feature_wise.append(np.array(np.mean(i, axis=0)))\n",
    "        if(debug == True):\n",
    "             print(\"calc_means\\n\")\n",
    "             print(\"array data\\n\",ar)\n",
    "             print(\"rows and col\",rows,columns)\n",
    "             print(\"Means: \",means)\n",
    "             print(means_feature_wise)\n",
    "        return means, means_feature_wise\n",
    "    def calc_Sjs(data,means,debug = False):\n",
    "         features_number = (len(data[0][0]))\n",
    "         Sw = [[0 for _ in range(features_number)] for _ in range(features_number)]\n",
    "         count = 0\n",
    "         for i in data:\n",
    "            number_of_data = len(i)\n",
    "            i = np.array(i).T\n",
    "            mi = np.array(means[count]).T\n",
    "            # rows,columns = i.shape\n",
    "          \n",
    "            single = (np.dot(i-mi,(i-mi).T))\n",
    "            ith_sj = single/(number_of_data-1)\n",
    "            Sw += (ith_sj)\n",
    "            count+=1\n",
    "         if(debug == True):\n",
    "            print(\"calc_Sj\\n\")\n",
    "            print(number_of_data-1)\n",
    "            print(\"array data\\n\",data)\n",
    "            print(\"array means\\n\",means)\n",
    "            print(\"list of Sw\\n\",Sw)\n",
    "         return Sw\n",
    "    def FDA(data, labels, n_components=1):\n",
    "        train_features_old = data\n",
    "        old_train_labels = labels\n",
    "        train_features, train_labels = sanitize_data(train_features_old,old_train_labels)\n",
    "        m ,mean_of_features = (FDA.calc_means(train_features))\n",
    "        sj = [0,0]\n",
    "        class0, class1 = train_features[0], train_features[1]\n",
    "        num_class0,num_class1 = len(class0),len(class1)\n",
    "        u = np.matrix(mean_of_features[0] - mean_of_features[1])\n",
    "\n",
    "        for i in range(len(train_features)): # classes = 2\n",
    "            r,c = np.matrix(train_features[i]).shape         ## train_features == 2*(datpoints*(1*14)))\n",
    "            for j in range(r):\n",
    "                x = np.matrix(train_features[i][j]-mean_of_features[i]).T ## 1*14\n",
    "                sj[i] += np.dot(x,x.T) #14*14\n",
    "\n",
    "        sj[0] , sj[1] = np.multiply(num_class0,sj[0]) , np.multiply(num_class1,sj[1])\n",
    "        S = (np.matrix(sj[0] + sj[1])) # 14*14\n",
    "        S[0][0][np.isclose(S[0][0], 0.0, atol=1e-6)] = 1e-6\n",
    "        Sinv = np.linalg.inv(S) # 14*14\n",
    "        w = (np.dot(Sinv,u.T))\n",
    "        return w\n",
    "    def project(data_features,w):\n",
    "        projected_data = (np.dot(w.T,np.matrix(data_features).T)).tolist()[0]\n",
    "        return projected_data\n",
    "\n",
    "sample_train_data = [[2,3],[4,7],[9,11],[5,8],]\n",
    "sample_train_labels = [0,0,1,1]\n",
    "w = FDA.FDA(sample_train_data,sample_train_labels,n_components=1)\n",
    "train_features = FDA.project(sample_train_data,w)  #num_data*1 ##1D\n",
    "test_features = FDA.project(sample_train_data,w)    #num_data*1 ##1D\n",
    "\n",
    "# train_features = [[i] for i in train_features]\n",
    "# test_features = [[i] for i in train_features]\n",
    "# FDAaccuracy = LogisticRegression.Logistic_Regression(train_features,sample_train_labels, test_features,sample_train_labels)\n",
    "# print(f\"\"\"Accuracy with preprocessing with FCA and classification by Logistic Regression = {FDAaccuracy}\\n\"\"\")\n",
    "print(w)"
   ]
  },
  {
   "cell_type": "code",
   "execution_count": 1149,
   "metadata": {},
   "outputs": [
    {
     "name": "stdout",
     "output_type": "stream",
     "text": [
      "\n",
      "Accuracy with without preprocessing and classification by Logistic Regression = 0.7\n",
      "\n"
     ]
    }
   ],
   "source": [
    "LRaccuracy = LogisticRegression.Logistic_Regression(train_features_old,old_train_labels,test_features_old,old_test_labels)\n",
    "print(f\"\"\"\\nAccuracy with without preprocessing and classification by Logistic Regression = {LRaccuracy}\\n\"\"\")"
   ]
  },
  {
   "attachments": {},
   "cell_type": "markdown",
   "metadata": {},
   "source": [
    "# Applying FDA as preprocessing"
   ]
  },
  {
   "cell_type": "code",
   "execution_count": 1150,
   "metadata": {},
   "outputs": [
    {
     "name": "stdout",
     "output_type": "stream",
     "text": [
      "Accuracy with preprocessing with FCA and classification by Logistic Regression = 0.8333333333333334\n",
      "\n"
     ]
    }
   ],
   "source": [
    "w = FDA.FDA(train_features_old,old_train_labels,n_components=1)\n",
    "train_features = FDA.project(train_features_old,w)  #num_data*1 ##1D\n",
    "test_features = FDA.project(test_features_old,w)    #num_data*1 ##1D\n",
    "train_features = [[i] for i in train_features]\n",
    "test_features = [[i] for i in test_features]\n",
    "FDAaccuracy = LogisticRegression.Logistic_Regression(train_features,old_train_labels, test_features,old_test_labels)\n",
    "print(f\"\"\"Accuracy with preprocessing with FCA and classification by Logistic Regression = {FDAaccuracy}\\n\"\"\")"
   ]
  },
  {
   "attachments": {},
   "cell_type": "markdown",
   "metadata": {},
   "source": [
    "### Applying inbuilt PCA, reducing into lesser features"
   ]
  },
  {
   "cell_type": "code",
   "execution_count": 1151,
   "metadata": {},
   "outputs": [],
   "source": [
    "pca = PCA(n_components=9)\n",
    "pca.fit(train_features_old)\n",
    "train_features_PCA = pca.transform(train_features_old)\n",
    "test_features_PCA = pca.transform(test_features_old)"
   ]
  },
  {
   "attachments": {},
   "cell_type": "markdown",
   "metadata": {},
   "source": [
    "# Applying FDA on PCA processed data as preprocessing"
   ]
  },
  {
   "cell_type": "code",
   "execution_count": 1152,
   "metadata": {},
   "outputs": [
    {
     "name": "stdout",
     "output_type": "stream",
     "text": [
      "Accuracy with preprocessing with PCA then FCA and classification by Logistic Regression = 0.8833333333333333\n"
     ]
    }
   ],
   "source": [
    "w = FDA.FDA(train_features_PCA,old_train_labels,n_components=1)\n",
    "train_features = FDA.project(train_features_PCA,w)  #num_data*1 ##1D\n",
    "test_features = FDA.project(test_features_PCA,w)    #num_data*1 ##1D\n",
    "train_features = [[i] for i in train_features]\n",
    "test_features = [[i] for i in test_features]\n",
    "PCAFRAaccuracy = LogisticRegression.Logistic_Regression(train_features,old_train_labels, test_features,old_test_labels)\n",
    "print(f\"\"\"Accuracy with preprocessing with PCA then FCA and classification by Logistic Regression = {PCAFRAaccuracy}\"\"\")"
   ]
  },
  {
   "cell_type": "code",
   "execution_count": 1153,
   "metadata": {},
   "outputs": [
    {
     "name": "stdout",
     "output_type": "stream",
     "text": [
      "Accuracy with PCA reduction to 12 features then FCA then classify by Logistic Regression = 0.8166666666666667\n",
      "Accuracy with PCA reduction to 11 features then FCA then classify by Logistic Regression = 0.8333333333333334\n",
      "Accuracy with PCA reduction to 10 features then FCA then classify by Logistic Regression = 0.8833333333333333\n",
      "Accuracy with PCA reduction to 9 features then FCA then classify by Logistic Regression = 0.8833333333333333\n",
      "Accuracy with PCA reduction to 8 features then FCA then classify by Logistic Regression = 0.8166666666666667\n",
      "Accuracy with PCA reduction to 7 features then FCA then classify by Logistic Regression = 0.85\n",
      "Accuracy with PCA reduction to 6 features then FCA then classify by Logistic Regression = 0.8333333333333334\n",
      "Accuracy with PCA reduction to 5 features then FCA then classify by Logistic Regression = 0.8333333333333334\n",
      "Accuracy with PCA reduction to 4 features then FCA then classify by Logistic Regression = 0.7\n",
      "Accuracy with PCA reduction to 3 features then FCA then classify by Logistic Regression = 0.7\n",
      "Accuracy with PCA reduction to 2 features then FCA then classify by Logistic Regression = 0.7166666666666667\n"
     ]
    },
    {
     "data": {
      "image/png": "[encoded data removed]",
      "text/plain": [
       "<Figure size 640x480 with 1 Axes>"
      ]
     },
     "metadata": {},
     "output_type": "display_data"
    }
   ],
   "source": [
    "acc = []\n",
    "f = []\n",
    "for i in range(12,1,-1):\n",
    "    f.append(i)\n",
    "    pca = PCA(i)\n",
    "    pca.fit(train_features_old)\n",
    "    train_features_PCA = pca.transform(train_features_old)\n",
    "    test_features_PCA = pca.transform(test_features_old)\n",
    "\n",
    "    w = FDA.FDA(train_features_PCA,old_train_labels,n_components=1)\n",
    "    train_features = FDA.project(train_features_PCA,w)  #num_data*1 ##1D\n",
    "    test_features = FDA.project(test_features_PCA,w)    #num_data*1 ##1D\n",
    "    train_features = [[i] for i in train_features]\n",
    "    test_features = [[i] for i in test_features]\n",
    "    PCAFRAaccuracy = LogisticRegression.Logistic_Regression(train_features,old_train_labels, test_features,old_test_labels)\n",
    "    print(f\"\"\"Accuracy with PCA reduction to {i} features then FCA then classify by Logistic Regression = {PCAFRAaccuracy}\"\"\")\n",
    "    acc.append(PCAFRAaccuracy)\n",
    "plt.plot(f,acc)\n",
    "plt.title('Accuracy vs #features reduced')\n",
    "plt.xlabel('X-axis')\n",
    "plt.ylabel('Y-axis')\n",
    "\n",
    "# Show the plot\n",
    "plt.show()\n"
   ]
  },
  {
   "attachments": {},
   "cell_type": "markdown",
   "metadata": {},
   "source": [
    "## Applying FDA on PCA processed data v/s Applying FDA only ; then logistic regression \n",
    "The accuracy on `PCA+FDA` depends amount on features reduction on the `PCA` step, more the feature the reduction more after the \"sweet\" stop as the PCA will give data with much less variance <br />\n",
    "Example:- PCA reduction to 1around 8 features gives \"best\" accuracy rest lesser the features reduced by PCA reduced accuracy till accuracy of only LR is reached (by fetures reduced to 2)"
   ]
  }
 ],
 "metadata": {
  "kernelspec": {
   "display_name": "Python 3",
   "language": "python",
   "name": "python3"
  },
  "language_info": {
   "codemirror_mode": {
    "name": "ipython",
    "version": 3
   },
   "file_extension": ".py",
   "mimetype": "text/x-python",
   "name": "python",
   "nbconvert_exporter": "python",
   "pygments_lexer": "ipython3",
   "version": "3.10.5"
  },
  "orig_nbformat": 4,
  "vscode": {
   "interpreter": {
    "hash": "26de051ba29f2982a8de78e945f0abaf191376122a1563185a90213a26c5da77"
   }
  }
 },
 "nbformat": 4,
 "nbformat_minor": 2
}
