{
 "cells": [
  {
   "cell_type": "code",
   "execution_count": 121,
   "metadata": {},
   "outputs": [],
   "source": [
    "import pandas  as pd\n",
    "import math\n",
    "import numpy  as np\n",
    "import matplotlib.pyplot as plt\n",
    "import csv\n",
    "import random as r\n",
    "from sklearn import datasets\n",
    "from pprint import pprint\n",
    "from sklearn.model_selection import train_test_split\n",
    "from sklearn.decomposition import PCA\n",
    "import warnings\n",
    "warnings.filterwarnings(\"ignore\", category=np.VisibleDeprecationWarning)\n"
   ]
  },
  {
   "cell_type": "code",
   "execution_count": 122,
   "metadata": {},
   "outputs": [],
   "source": [
    "tmp = datasets.load_iris()\n",
    "data_iris = tmp.data\n",
    "target = tmp.target\n",
    "train_data, test_data, train_label, test_label = train_test_split(data_iris, target, test_size=0.1, random_state=69)\n",
    "# print(train_data)  # [[5.7 3.  4.2 1.2], [5.7 2.6 3.5 1. ], [7.2 3.  5.8 1.6]]\n",
    "# print(test_data)  # [[5.7 3.  4.2 1.2], [5.7 2.6 3.5 1. ], [7.2 3.  5.8 1.6]]\n",
    "# print(train_label) # == [2 2 1 1 1 0 0 1 0 1 2 0 2 0 1 2 2 2 1 2 0 1 2 0 0 1 1 2 0 0]\n",
    "# print(test_label) # == [2 2 1 1 1 0 0 1 0 1 2 0 2 0 1 2 2 2 1 2 0 1 2 0 0 1 1 2 0 0]"
   ]
  },
  {
   "cell_type": "code",
   "execution_count": 123,
   "metadata": {},
   "outputs": [],
   "source": [
    "class LogisticRegression:        \n",
    "    def sigmoid(z): \n",
    "        return 1 / (1 + np.exp(-z))\n",
    "    def loss(y, y_hat):\n",
    "        loss = -np.mean(y*(np.log(y_hat)) - (1-y)*np.log(1-y_hat))\n",
    "        return loss\n",
    "    def gradients(data, y, y_hat):\n",
    "        num_points = data.shape[0] # num_points-> number of training examples.\n",
    "        dw = (1/num_points)*np.dot(data.T, (y_hat - y))      \n",
    "        return dw\n",
    "    def normalize(X): #return list ;without nan\n",
    "        num_points, n = np.matrix(X).shape\n",
    "        for _ in range(n):\n",
    "            with np.errstate(divide='ignore', invalid='ignore'):\n",
    "                X = (X - X.mean(axis=0))/X.std(axis=0)\n",
    "        X = np.nan_to_num(X,nan = 1)\n",
    "        return (X).tolist()\n",
    "    def train_LR(train_data,train_labels,alpha = 0.002, max_iter = 1000, debug = False):\n",
    "        Train_data = np.array(train_data)                               ## num_points*n = datapoint*features*n\n",
    "        normalized_data = LogisticRegression.normalize(Train_data)      # num_points*n = datapoint*features\n",
    "\n",
    "        num_points = len(normalized_data)                                #no. of data points\n",
    "        n = len(normalized_data[0])                                      # no. of features\n",
    "        slope = (([0.69 for _ in range(n)]))    #r.random()        ## 1 * features ;randomly intialize slope == {b0, b1 ...}\n",
    "        count = 0\n",
    "        while(count < max_iter):\n",
    "            slope = (np.matrix(slope).T)\n",
    "            y_hat_all = (np.dot(slope.T,np.matrix(np.matrix(normalized_data).T)).tolist())[0]\n",
    "            y_hats = [0 for _ in range(num_points)]\n",
    "            for i in range(0,num_points):\n",
    "                y_hats[i] = LogisticRegression.sigmoid(y_hat_all[i])\n",
    "\n",
    "            error = (np.matrix(y_hats) - np.matrix(train_labels)).tolist() # 1*num_points\n",
    "\n",
    "            p = (np.dot(np.matrix(error).T,np.matrix(normalized_data[i])))\n",
    "            sumed = np.sum(p,axis=0)\n",
    "            sumed_list = (sumed.tolist())\n",
    "\n",
    "            change = (alpha/num_points)*np.array(sumed_list)\n",
    "            slope = (slope).T\n",
    "            slope -= change\n",
    "            slope = slope.tolist()[0]\n",
    "            count+=1\n",
    "        return slope\n",
    "    def finding_accuracy(confidence_list,testing_labels, threshold,debug = False):\n",
    "        j=1\n",
    "        predicted_labels = [j := 0 if i < threshold else 1 for i in confidence_list]\n",
    "        ratio = (sum([1 for i in range(len(predicted_labels)) if predicted_labels[i] == testing_labels[i]]))/len(predicted_labels) , \n",
    "        if(debug == True) : return ratio\n",
    "        accuracy = max([(sum([1 for i in range(len(predicted_labels)) if predicted_labels[i] == testing_labels[i]]))/len(predicted_labels) , \n",
    "                    (sum([1 for i in range(len(predicted_labels)) if predicted_labels[i] == testing_labels[i]]))/len(predicted_labels)])\n",
    "        \n",
    "        return accuracy\n",
    "    def test_LR(test_data, test_labels, slope,threshold = 0.5,debug = False):\n",
    "        test_data = LogisticRegression.normalize(np.array(test_data))   #converting test_data in same form\n",
    "        x = (np.dot(np.matrix(slope),np.matrix(test_data).T)).tolist()[0]\n",
    "        prob = [LogisticRegression.sigmoid(i) for i in x]\n",
    "\n",
    "        accuracy = LogisticRegression.finding_accuracy(prob,test_labels,threshold,debug=False)\n",
    "        return accuracy, prob\n",
    "    def Logistic_Regression(train_features,train_labels,test_features,test_labels,accuracy_only=True,debug = False):\n",
    "        slope = LogisticRegression.train_LR(train_features,train_labels)\n",
    "        accuracy, prob_list = LogisticRegression.test_LR(test_features,test_labels,slope)\n",
    "        if(accuracy_only) : return accuracy\n",
    "        return prob_list , accuracy"
   ]
  },
  {
   "attachments": {},
   "cell_type": "markdown",
   "metadata": {},
   "source": [
    "We can run Logistic regression 3 times <br /> \n",
    "With label as {0,(1 or 2)} , {1,(0 or 1)} ,{2,(1 or 0)}"
   ]
  },
  {
   "cell_type": "code",
   "execution_count": 124,
   "metadata": {},
   "outputs": [
    {
     "name": "stdout",
     "output_type": "stream",
     "text": [
      "\n",
      "Accuracy with without preprocessing and classification by Logistic Regression = 0.8\n",
      "\n"
     ]
    }
   ],
   "source": [
    "train_label_s =  [  [0 if x == 0 else 1 for x in train_label],\n",
    "                    [1 if x == 1 else 0 for x in train_label],\n",
    "                    [1 if x == 2 else 0 for x in train_label]\n",
    "                    ]\n",
    "\n",
    "test_label_s =  [   [0 if x == 0 else 1 for x in test_label],\n",
    "                    [1 if x == 1 else 0 for x in test_label],\n",
    "                    [1 if x == 2 else 0 for x in test_label]\n",
    "                    ]\n",
    "prob = [[],[],[]]\n",
    "# print(train_label_s[0])\n",
    "# print(train_label_s[1])\n",
    "# print(train_label_s[2])\n",
    "# print(test_label_s[0])\n",
    "# print(test_label_s[1])\n",
    "# print(test_label_s[2])\n",
    "# print(test_label_s)\n",
    "for i in range(3):\n",
    "    prob[i], acc = LogisticRegression.Logistic_Regression(train_data,train_label_s[i],test_data,test_label_s[i],accuracy_only=False)\n",
    "    # print(acc)\n",
    "\n",
    "prob = (np.array(prob)).T\n",
    "prob = prob.tolist()\n",
    "labels = []\n",
    "# print(prob)\n",
    "labels = [i.index(min(i))for i in prob]\n",
    "accuracy = (sum([1 for i in range(len(labels)) if labels[i] == test_label[i]]))/len(labels)\n",
    "print(f\"\"\"\\nAccuracy with without preprocessing and classification by Logistic Regression = {accuracy}\\n\"\"\")"
   ]
  },
  {
   "attachments": {},
   "cell_type": "markdown",
   "metadata": {},
   "source": [
    "#### Does `Logistic Reg in multiclass` provide better results than the ones reported in `LDA then kNN` ?<br />\n",
    "No, kNN works very fine (for the given data), <br /> whereas Logistic on mutiple struggle a bit (here)"
   ]
  }
 ],
 "metadata": {
  "kernelspec": {
   "display_name": "Python 3",
   "language": "python",
   "name": "python3"
  },
  "language_info": {
   "codemirror_mode": {
    "name": "ipython",
    "version": 3
   },
   "file_extension": ".py",
   "mimetype": "text/x-python",
   "name": "python",
   "nbconvert_exporter": "python",
   "pygments_lexer": "ipython3",
   "version": "3.10.5"
  },
  "orig_nbformat": 4,
  "vscode": {
   "interpreter": {
    "hash": "26de051ba29f2982a8de78e945f0abaf191376122a1563185a90213a26c5da77"
   }
  }
 },
 "nbformat": 4,
 "nbformat_minor": 2
}
